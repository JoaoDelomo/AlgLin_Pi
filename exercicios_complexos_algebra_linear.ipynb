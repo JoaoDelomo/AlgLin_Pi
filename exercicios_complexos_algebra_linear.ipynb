{
 "cells": [
  {
   "cell_type": "markdown",
   "id": "fb219e0a",
   "metadata": {},
   "source": [
    "\n",
    "# Simulado Avançado - Álgebra Linear e Geometria Analítica (Python)\n",
    "\n",
    "Este simulado contém exercícios mais complexos e aplicados sobre os tópicos de vetores, sistemas lineares, geometria analítica e bases. Você poderá resolvê-los utilizando Python e bibliotecas como `numpy`. Esses exercícios têm foco em contextos reais e aplicações práticas.\n",
    "\n",
    "### Boa sorte!\n"
   ]
  },
  {
   "cell_type": "code",
   "execution_count": 1,
   "id": "94cbde8f",
   "metadata": {},
   "outputs": [],
   "source": [
    "import numpy as np"
   ]
  },
  {
   "cell_type": "markdown",
   "id": "9ddad210",
   "metadata": {},
   "source": [
    "## 1. Vetores - Aplicações"
   ]
  },
  {
   "cell_type": "markdown",
   "id": "a007b503",
   "metadata": {},
   "source": [
    "\n",
    "### Exercício 1: Direções de forças em um sistema mecânico\n",
    "\n",
    "Em um sistema de três forças aplicadas sobre um objeto em equilíbrio, as forças \\( F_1 \\), \\( F_2 \\) e \\( F_3 \\) possuem magnitudes e direções. Sabendo que:\n",
    "\n",
    "- \\( F_1 \\) tem magnitude de 10 N e está na direção \\([1, 2, -1]\\),\n",
    "- \\( F_2 \\) tem magnitude de 5 N e está na direção \\([-1, 0, 3]\\),\n",
    "- \\( F_3 \\) mantém o objeto em equilíbrio,\n",
    "\n",
    "Encontre o vetor que representa a força \\( F_3 \\) necessária para que o objeto esteja em equilíbrio. Lembre-se de que a soma das forças em um corpo em equilíbrio deve ser igual a zero.\n",
    "\n",
    "Crie uma função chamada calcular_forca_equilibrio() que retorna o vetor de força F3\n"
   ]
  },
  {
   "cell_type": "code",
   "execution_count": 2,
   "id": "1571af48",
   "metadata": {},
   "outputs": [],
   "source": [
    "def calcular_forca_equilibrio():\n",
    "    F1_direcao = np.array([1, 2, -1])\n",
    "    F2_direcao = np.array([-1, 0, 3])\n",
    "\n",
    "    F3 = -(F1_direcao + F2_direcao)\n",
    "\n",
    "    return F3"
   ]
  },
  {
   "cell_type": "markdown",
   "id": "8178b791",
   "metadata": {},
   "source": [
    "\n",
    "### Exercício 2: Análise de movimento em 3D\n",
    "\n",
    "Um drone se move no espaço 3D seguindo a trajetória descrita pelo vetor posição \\( P(t) \\), que depende do tempo \\( t \\). O vetor posição é dado por:\n",
    "\n",
    "\\[ P(t) = [3t^2, 2t, 5 - t^3] \\]\n",
    "\n",
    "Encontre a velocidade e aceleração do drone em função do tempo \\( t \\) e determine o valor de \\( t \\) para o qual a velocidade é máxima.\n",
    "\n",
    "Crie uma função chamada calcular_velocidade_aceleracao() que recebe o tempo t e retorna a velocidade."
   ]
  },
  {
   "cell_type": "code",
   "execution_count": null,
   "id": "128b7b54",
   "metadata": {},
   "outputs": [],
   "source": [
    "import numpy as np\n",
    "\n",
    "def calcular_velocidade_aceleracao(t):\n",
    "    velocidade = np.array([6*t, 2, -3*t**2])\n",
    "    \n",
    "    aceleracao = np.array([6, 0, -6*t])\n",
    "    \n",
    "    return velocidade\n"
   ]
  },
  {
   "cell_type": "markdown",
   "id": "9a73fa74",
   "metadata": {},
   "source": [
    "\n",
    "### Exercício 3: Projeção de vetores\n",
    "\n",
    "Dado um vetor de força \\( F = [6, 8, -2] \\), projete esse vetor na direção do vetor \\( d = [1, 1, 0] \\). A projeção deve ser calculada para determinar a componente do vetor força ao longo da direção \\( d \\).\n",
    "\n",
    "Crie uma função chamada projetar_forca() que retorna a projeção da força F na direção d."
   ]
  },
  {
   "cell_type": "code",
   "execution_count": 3,
   "id": "43b28af9",
   "metadata": {},
   "outputs": [],
   "source": [
    "def projetar_forca():\n",
    "    F = np.array([6, 8, -2])\n",
    "    d = np.array([1, 1, 0])\n",
    "\n",
    "    projecao = (np.dot(F, d)/np.dot(d, d)) * d\n",
    "    return projecao"
   ]
  },
  {
   "cell_type": "markdown",
   "id": "a7061a45",
   "metadata": {},
   "source": [
    "\n",
    "### Exercício 4: Trabalho realizado por uma força\n",
    "\n",
    "Uma partícula se move ao longo de uma trajetória reta, com sua posição em função do tempo dada por \\( r(t) = [t, t^2, 2t] \\). Uma força constante \\( F = [4, -1, 3] \\) atua sobre a partícula. Calcule o trabalho realizado pela força ao mover a partícula de \\( t = 0 \\) até \\( t = 3 \\).\n",
    "\n",
    "Crie uma função chamada calcular_trabalho() que retorna o trabalho realizado.\n"
   ]
  },
  {
   "cell_type": "code",
   "execution_count": 6,
   "id": "b845a40c",
   "metadata": {},
   "outputs": [
    {
     "name": "stdout",
     "output_type": "stream",
     "text": [
      "21\n"
     ]
    }
   ],
   "source": [
    "def calcular_trabalho():\n",
    "    F = np.array([4, -1, 3])\n",
    "\n",
    "    rt_3 = np.array([3, 9, 6])\n",
    "    rt_0 = np.array([0, 0, 0])\n",
    "\n",
    "    d = rt_3 - rt_0\n",
    "\n",
    "    trabalho = np.dot(F, d)\n",
    "    return trabalho\n",
    "\n",
    "print(calcular_trabalho())\n"
   ]
  },
  {
   "cell_type": "markdown",
   "id": "cbb06034",
   "metadata": {},
   "source": [
    "\n",
    "### Exercício 5: Operações com vetores em eletricidade\n",
    "\n",
    "Dois campos elétricos \\( E_1 \\) e \\( E_2 \\) estão presentes em um ponto do espaço. Os vetores que os representam são:\n",
    "\n",
    "\\[ E_1 = [2, 3, -1], \\quad E_2 = [-1, 4, 2] \\]\n",
    "\n",
    "Encontre o vetor resultante da soma dos campos elétricos e o ângulo entre os vetores \\( E_1 \\) e \\( E_2 \\).\n",
    "\n",
    "Crie uma função chamada soma_angulos_vetores() que retorna o vetor resultante e o ângulo entre os vetores E1 e E2.\n"
   ]
  },
  {
   "cell_type": "code",
   "execution_count": 9,
   "id": "ee03fabf",
   "metadata": {},
   "outputs": [
    {
     "name": "stdout",
     "output_type": "stream",
     "text": [
      "(array([1, 7, 1]), np.float64(62.188156861783895))\n"
     ]
    }
   ],
   "source": [
    "def soma_angulos_vetores():\n",
    "    E_1 = np.array([2, 3, -1])\n",
    "    E_2 = np.array([-1, 4, 2])\n",
    "\n",
    "    cos = np.dot(E_1, E_2) / ((np.linalg.norm(E_1) * (np.linalg.norm(E_2))))\n",
    "\n",
    "    angulo_rad = np.arccos(cos)\n",
    "    angulo_graus = np.degrees(angulo_rad)\n",
    "\n",
    "    vetor_resultante = E_1 + E_2\n",
    "\n",
    "    return vetor_resultante, angulo_graus\n",
    "\n",
    "print(soma_angulos_vetores())"
   ]
  },
  {
   "cell_type": "markdown",
   "id": "2666eec9",
   "metadata": {},
   "source": [
    "## 2. Sistemas Lineares - Aplicações"
   ]
  },
  {
   "cell_type": "markdown",
   "id": "8ddb41e1",
   "metadata": {},
   "source": [
    "\n",
    "### Exercício 1: Mistura de soluções químicas\n",
    "\n",
    "Você é responsável por misturar três soluções químicas. Cada uma das soluções contém uma quantidade diferente de três reagentes (A, B e C). As quantidades são descritas pelas seguintes equações:\n",
    "\n",
    "\\[\n",
    "2x + y + z = 8 \\\\\n",
    "3x - 2y + 4z = 14 \\\\\n",
    "x + 5y - z = 6\n",
    "\\]\n",
    "\n",
    "Onde \\( x \\), \\( y \\) e \\( z \\) representam as quantidades de cada solução. Resolva o sistema para encontrar as quantidades de cada solução necessárias para obter as quantidades corretas de reagentes.\n",
    "\n",
    "Crie uma função chamada resolver_mistura_solucoes() que retorna a solução do sistema.\n"
   ]
  },
  {
   "cell_type": "code",
   "execution_count": null,
   "id": "66a5e52b",
   "metadata": {},
   "outputs": [],
   "source": [
    "def resolver_mistura_solucoes():\n",
    "    A = np.array([[2, 1, 1],\n",
    "                  [3, -2, 4],\n",
    "                  [1, 5, -1]])\n",
    "    B = np.array([8, 14, 6])\n",
    "\n",
    "    X = np.linalg.solve(A, B)\n",
    "    return X"
   ]
  },
  {
   "cell_type": "markdown",
   "id": "42a2fc81",
   "metadata": {},
   "source": [
    "\n",
    "### Exercício 2: Tráfego em interseções de trânsito\n",
    "\n",
    "Em um cruzamento de quatro vias, o número de carros que entram e saem por cada via é modelado pelas seguintes equações:\n",
    "\n",
    "\\[\n",
    "x - 2y + z = 10 \\\\\n",
    "3x + y - z = 20 \\\\\n",
    "2x - y + 2z = 15\n",
    "\\]\n",
    "\n",
    "Onde \\( x \\), \\( y \\) e \\( z \\) são as quantidades de carros que entram pelas vias A, B e C, respectivamente. Resolva o sistema para encontrar o fluxo de carros em cada via.\n",
    "\n",
    "Crie uma função chamada resolver_trafego() que retorna o fluxo de carros.\n"
   ]
  },
  {
   "cell_type": "code",
   "execution_count": null,
   "id": "7f072652",
   "metadata": {},
   "outputs": [],
   "source": [
    "def resolver_trafego():\n",
    "    A = np.array([[1, -2, 1],\n",
    "                  [3, 1, -1],\n",
    "                  [2, -1, 2]])\n",
    "    \n",
    "    B = np.array([10, 20, 15])\n",
    "\n",
    "    X = np.linalg.solve(A, B)\n",
    "    return X"
   ]
  },
  {
   "cell_type": "markdown",
   "id": "1c7f44a7",
   "metadata": {},
   "source": [
    "\n",
    "### Exercício 3: Rede de circuitos elétricos\n",
    "\n",
    "Em um circuito elétrico com três malhas, as correntes \\( I_1 \\), \\( I_2 \\) e \\( I_3 \\) em cada malha são descritas pelo seguinte sistema de equações:\n",
    "\n",
    "\\[\n",
    "10I_1 + 5I_2 - 2I_3 = 12 \\\\\n",
    "-3I_1 + 8I_2 + 4I_3 = 7 \\\\\n",
    "6I_1 - I_2 + 3I_3 = 15\n",
    "\\]\n",
    "\n",
    "Determine as correntes em cada malha resolvendo o sistema de equações.\n",
    "\n",
    "Crie uma função chamada resolver_correntes_circuito() que retorna as correntes nas malhas.\n"
   ]
  },
  {
   "cell_type": "code",
   "execution_count": null,
   "id": "f2760f88",
   "metadata": {},
   "outputs": [],
   "source": [
    "def resolver_correntes_circuito():\n",
    "    A = np.array([[10, 5, -2],\n",
    "                  [-3, 8, 4],\n",
    "                  [6, -1, 3]])\n",
    "    \n",
    "    B = np.array([12, 7, 15])\n",
    "\n",
    "    X = np.linalg.solve(A, B)\n",
    "    return X"
   ]
  },
  {
   "cell_type": "markdown",
   "id": "109ebeb6",
   "metadata": {},
   "source": [
    "\n",
    "### Exercício 4: Previsão de demanda de produtos\n",
    "\n",
    "Uma empresa utiliza um modelo linear para prever a demanda de três produtos com base no tempo. As demandas de cada produto (A, B e C) em três períodos de tempo são descritas pelas equações:\n",
    "\n",
    "\\[\n",
    "3x + 2y + z = 120 \\\\\n",
    "4x - y + 2z = 150 \\\\\n",
    "x + 3y + 3z = 180\n",
    "\\]\n",
    "\n",
    "Onde \\( x \\), \\( y \\) e \\( z \\) representam a demanda de cada produto em três períodos de tempo. Resolva o sistema para encontrar as previsões de demanda.\n",
    "\n",
    "Crie uma função chamada prever_demanda() que retorna a previsão da demanda."
   ]
  },
  {
   "cell_type": "code",
   "execution_count": null,
   "id": "3ea6ff9c",
   "metadata": {},
   "outputs": [],
   "source": [
    "def prever_demanda():\n",
    "    A = np.array([[3, 2, 1],\n",
    "                  [4, -1, 2],\n",
    "                  [1, 3, 3]])\n",
    "    \n",
    "    B = np.array([120, 150, 180])\n",
    "\n",
    "    X = np.linalg.solve(A, B)\n",
    "    return X"
   ]
  },
  {
   "cell_type": "markdown",
   "id": "09005931",
   "metadata": {},
   "source": [
    "\n",
    "### Exercício 5: Equilíbrio de forças em uma estrutura\n",
    "\n",
    "Em uma estrutura de três barras conectadas, as tensões \\( T_1 \\), \\( T_2 \\) e \\( T_3 \\) nas barras são descritas pelas seguintes equações:\n",
    "\n",
    "\\[\n",
    "5T_1 + 3T_2 - T_3 = 0 \\\\\n",
    "4T_1 - 2T_2 + 6T_3 = 10 \\\\\n",
    "-3T_1 + 5T_2 + 4T_3 = 15\n",
    "\\]\n",
    "\n",
    "Resolva o sistema de equações para determinar as tensões nas barras.\n",
    "\n",
    "Crie uma função chamada calcular_tensao_estrutura() que retorna as tensões nas barras."
   ]
  },
  {
   "cell_type": "code",
   "execution_count": null,
   "id": "b35d48e4",
   "metadata": {},
   "outputs": [],
   "source": [
    "def calcular_tensao_estrutura():\n",
    "    A = np.array([[5, 3, -1],\n",
    "                  [4, -2, 6],\n",
    "                  [-3, 5, 4]])\n",
    "    \n",
    "    B = np.array([0, 10, 15])\n",
    "\n",
    "    X = np.linalg.solve(A, B)\n",
    "    return X"
   ]
  },
  {
   "cell_type": "markdown",
   "id": "9d558934",
   "metadata": {},
   "source": [
    "## 3. Geometria Analítica - Aplicações"
   ]
  },
  {
   "cell_type": "markdown",
   "id": "e5d8c8fa",
   "metadata": {},
   "source": [
    "\n",
    "### Exercício 1: Distância entre pontos em um sistema de navegação\n",
    "\n",
    "Em um sistema de navegação 3D, um drone parte do ponto \\( P_1 = [2, 3, 5] \\) e se move em direção ao ponto \\( P_2 = [7, -2, 1] \\). Calcule a distância entre esses dois pontos e a equação da reta que descreve o movimento do drone.\n",
    "\n",
    "Crie uma função chamada calcular_distancia_pontos() que retorna a distância entre os pontos.\n"
   ]
  },
  {
   "cell_type": "markdown",
   "id": "bfa835fa",
   "metadata": {},
   "source": [
    "\n",
    "### Exercício 2: Interseção de retas no espaço 3D\n",
    "\n",
    "Duas retas no espaço são dadas pelas equações paramétricas:\n",
    "\n",
    "\\[\n",
    "r_1(t) = [1 + 2t, -1 + t, 3t] \\\\\n",
    "r_2(s) = [4 + s, 2 - s, 5 + 2s]\n",
    "\\]\n",
    "\n",
    "Encontre o ponto de interseção (se existir) dessas duas retas.\n",
    "\n",
    "Crie uma função chamada encontrar_intersecao_retas() que retorna o ponto de interseção.\n"
   ]
  },
  {
   "cell_type": "markdown",
   "id": "566617fa",
   "metadata": {},
   "source": [
    "\n",
    "### Exercício 3: Planos e distâncias\n",
    "\n",
    "Dado o plano descrito pela equação \\( 2x - 3y + z = 4 \\), encontre a distância do ponto \\( P = [1, -2, 3] \\) até o plano.\n",
    "\n",
    "Crie uma função chamada calcular_distancia_plano() que retorna a distância do ponto ao plano.\n"
   ]
  },
  {
   "cell_type": "markdown",
   "id": "04a63540",
   "metadata": {},
   "source": [
    "\n",
    "### Exercício 4: Ângulo entre planos\n",
    "\n",
    "Dado o plano \\( 3x + 4y - 2z = 10 \\) e o plano \\( x - y + 3z = 5 \\), encontre o ângulo entre esses dois planos.\n",
    "\n",
    "Crie uma função chamada calcular_angulo_planos() que retorna o ângulo entre os planos."
   ]
  },
  {
   "cell_type": "markdown",
   "id": "240b3be4",
   "metadata": {},
   "source": [
    "\n",
    "### Exercício 5: Projeção de um ponto sobre uma reta\n",
    "\n",
    "Dada a reta descrita pela equação vetorial \\( r(t) = [1, 2, 3] + t[4, 5, 6] \\), encontre a projeção do ponto \\( P = [7, 8, 9] \\) sobre a reta.\n",
    "\n",
    "Crie uma função chamada projetar_ponto_reta() que retorna a projeção do ponto sobre a reta.\n"
   ]
  },
  {
   "cell_type": "markdown",
   "id": "df75bed0",
   "metadata": {},
   "source": [
    "## 4. Bases - Aplicações"
   ]
  },
  {
   "cell_type": "markdown",
   "id": "847664b7",
   "metadata": {},
   "source": [
    "\n",
    "### Exercício 1: Mudança de base em um sistema de coordenadas\n",
    "\n",
    "Considere o sistema de coordenadas com a base \\( B = \\{[1, 2], [3, 4]\\} \\). Encontre as coordenadas do vetor \\( v = [5, 6] \\) em relação à base \\( B \\).\n",
    "\n",
    "Crie uma função chamada coordenadas_base() que retorna as coordenadas do vetor na nova base.\n"
   ]
  },
  {
   "cell_type": "markdown",
   "id": "a94be725",
   "metadata": {},
   "source": [
    "\n",
    "### Exercício 2: Base ortonormal\n",
    "\n",
    "Dado o conjunto de vetores \\([2, 1], [1, -1]\\), utilize o processo de Gram-Schmidt para encontrar uma base ortonormal para o subespaço gerado por esses vetores.\n",
    "\n",
    "Crie uma função chamada gram_schmidt() que retorna a base ortonormal."
   ]
  },
  {
   "cell_type": "markdown",
   "id": "6a91c431",
   "metadata": {},
   "source": [
    "\n",
    "### Exercício 3: Mudança de base em 3D\n",
    "\n",
    "Dada a base \\( B = \\{[1, 0, 0], [0, 1, 0], [0, 0, 1]\\} \\) e a nova base \\( B' = \\{[1, 1, 0], [0, 1, 1], [1, 0, 1]\\} \\), encontre a matriz de transformação de \\( B \\) para \\( B' \\).\n",
    "\n",
    "Crie uma função chamada transformacao_base() que retorna a matriz de transformação entre as bases."
   ]
  },
  {
   "cell_type": "markdown",
   "id": "8d2e4bd8",
   "metadata": {},
   "source": [
    "\n",
    "### Exercício 4: Combinação linear e independência linear\n",
    "\n",
    "Verifique se os vetores \\( v_1 = [1, 2, 3] \\), \\( v_2 = [2, 4, 6] \\), e \\( v_3 = [3, 6, 9] \\) são linearmente independentes. Se não forem, expresse um dos vetores como combinação linear dos outros.\n",
    "\n",
    "Crie uma função chamada verificar_independencia_linear() que verifica a independência linear e, se necessário, retorna a combinação linear.\n"
   ]
  },
  {
   "cell_type": "markdown",
   "id": "5a829d0d",
   "metadata": {},
   "source": [
    "\n",
    "### Exercício 5: Transformação linear\n",
    "\n",
    "Dada a transformação linear \\( T: \\mathbb{R}^2 \\to \\mathbb{R}^2 \\) representada pela matriz \\( A = \\begin{bmatrix} 2 & 1 \\\\ 1 & 3 \\end{bmatrix} \\), encontre a imagem do vetor \\( v = [3, 2] \\) sob essa transformação.\n",
    "\n",
    "Crie uma função chamada aplicar_transformacao_linear() que aplica a transformação ao vetor.\n"
   ]
  }
 ],
 "metadata": {
  "kernelspec": {
   "display_name": "venv",
   "language": "python",
   "name": "python3"
  },
  "language_info": {
   "codemirror_mode": {
    "name": "ipython",
    "version": 3
   },
   "file_extension": ".py",
   "mimetype": "text/x-python",
   "name": "python",
   "nbconvert_exporter": "python",
   "pygments_lexer": "ipython3",
   "version": "3.12.3"
  }
 },
 "nbformat": 4,
 "nbformat_minor": 5
}
