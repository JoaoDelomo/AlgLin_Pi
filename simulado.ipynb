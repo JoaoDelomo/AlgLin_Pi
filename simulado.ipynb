{
 "cells": [
  {
   "cell_type": "code",
   "execution_count": 2,
   "metadata": {},
   "outputs": [],
   "source": [
    "import numpy as np"
   ]
  },
  {
   "cell_type": "code",
   "execution_count": 1,
   "metadata": {},
   "outputs": [],
   "source": [
    "#Exercício 1 no papel."
   ]
  },
  {
   "cell_type": "code",
   "execution_count": 4,
   "metadata": {},
   "outputs": [
    {
     "data": {
      "text/plain": [
       "(array([19., 12.]),\n",
       " array([4.05714319e-25]),\n",
       " np.int32(2),\n",
       " array([76.65581716, 19.54189591]))"
      ]
     },
     "execution_count": 4,
     "metadata": {},
     "output_type": "execute_result"
    }
   ],
   "source": [
    "#Exercício 2\n",
    "\n",
    "A = np.array([[1, 6],\n",
    "              [2, 12],\n",
    "              [3, 18],\n",
    "              [19, 7],\n",
    "              [38, 14],\n",
    "              [57, 21]])\n",
    "\n",
    "B = np.array([91, 182, 273, 445, 890, 1335])\n",
    "\n",
    "resultado = np.linalg.lstsq(A, B)\n",
    "resultado"
   ]
  },
  {
   "cell_type": "code",
   "execution_count": 20,
   "metadata": {},
   "outputs": [
    {
     "name": "stdout",
     "output_type": "stream",
     "text": [
      "93.42911751697112\n"
     ]
    }
   ],
   "source": [
    "A = np.array([[-5, -1],\n",
    "       [-4, -2],\n",
    "       [-3,  1],\n",
    "       [-1,  0],\n",
    "       [-4, -2]])\n",
    "\n",
    "B = np.array([[-4,  1, -3,  1, -4],\n",
    "       [-3,  0, -5, -5, -5]])\n",
    "\n",
    "C = np.array([[-14,  13,  19,  -6,  12],\n",
    "       [ -5, -14, -13,   5, -11],\n",
    "       [ -4,  18,  15, -14, -15],\n",
    "       [  6,  -1,   7, -11,   0],\n",
    "       [ 17,  12,  13, -13, -10]])\n",
    "\n",
    "R = C - A @ B\n",
    "\n",
    "def norma_frobenius(R):\n",
    "    soma_quadrados = 0\n",
    "    for i in R:\n",
    "        for j in i:\n",
    "            soma_quadrados += j**2\n",
    "\n",
    "    raiz_quadrada = np.sqrt(soma_quadrados)\n",
    "    return raiz_quadrada\n",
    "    \n",
    "\n",
    "print(norma_frobenius(R))"
   ]
  },
  {
   "cell_type": "code",
   "execution_count": 21,
   "metadata": {},
   "outputs": [],
   "source": [
    "#Exercício 4\n",
    "\n",
    "#Resolvido no papel."
   ]
  }
 ],
 "metadata": {
  "kernelspec": {
   "display_name": "venv",
   "language": "python",
   "name": "python3"
  },
  "language_info": {
   "codemirror_mode": {
    "name": "ipython",
    "version": 3
   },
   "file_extension": ".py",
   "mimetype": "text/x-python",
   "name": "python",
   "nbconvert_exporter": "python",
   "pygments_lexer": "ipython3",
   "version": "3.12.3"
  }
 },
 "nbformat": 4,
 "nbformat_minor": 2
}
