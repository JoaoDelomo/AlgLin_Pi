{
 "cells": [
  {
   "cell_type": "markdown",
   "metadata": {},
   "source": [
    "# Vetores 1"
   ]
  },
  {
   "cell_type": "code",
   "execution_count": 7,
   "metadata": {},
   "outputs": [],
   "source": [
    "import numpy as np"
   ]
  },
  {
   "cell_type": "code",
   "execution_count": 5,
   "metadata": {},
   "outputs": [
    {
     "name": "stdout",
     "output_type": "stream",
     "text": [
      "[21.2, 23.849999999999998, 7.949999999999999, 10.6]\n"
     ]
    }
   ],
   "source": [
    "#Exercício 2\n",
    "\n",
    "v = [8, 9, 3, 4]\n",
    "a = 2.65\n",
    "va = []\n",
    "\n",
    "for i in v:\n",
    "    escalar = i * a\n",
    "    va.append(escalar)\n",
    "\n",
    "print(va)"
   ]
  },
  {
   "cell_type": "code",
   "execution_count": 12,
   "metadata": {},
   "outputs": [
    {
     "name": "stdout",
     "output_type": "stream",
     "text": [
      "[10, 6, 15, 16]\n"
     ]
    }
   ],
   "source": [
    "#Exercício 3\n",
    "\n",
    "v1 = [5, 3, 9, 8]\n",
    "v2 = [5, 3, 6, 8]\n",
    "soma = []\n",
    "\n",
    "i = 0\n",
    "while i <= 3:\n",
    "    add = v1[i] + v2[i]\n",
    "    soma.append(add)\n",
    "    i += 1\n",
    "\n",
    "print(soma)"
   ]
  },
  {
   "cell_type": "markdown",
   "metadata": {},
   "source": [
    "# Vetores 2"
   ]
  },
  {
   "cell_type": "code",
   "execution_count": 14,
   "metadata": {},
   "outputs": [
    {
     "data": {
      "text/plain": [
       "np.float64(0.7071067811865475)"
      ]
     },
     "execution_count": 14,
     "metadata": {},
     "output_type": "execute_result"
    }
   ],
   "source": [
    "#Exercício 4\n",
    "\n",
    "v = np.array([0, 0, 0.7, 0.1])\n",
    "\n",
    "modulo = np.linalg.norm(v)\n",
    "modulo\n"
   ]
  },
  {
   "cell_type": "code",
   "execution_count": 15,
   "metadata": {},
   "outputs": [
    {
     "name": "stdout",
     "output_type": "stream",
     "text": [
      "29.765752132274432\n",
      "29.99258801537107\n"
     ]
    }
   ],
   "source": [
    "#Exercício 5\n",
    "\n",
    "v1 = np.array([6, 9, 7, 7])\n",
    "v2 = np.array([3, 9, 8, 9])\n",
    "\n",
    "soma = v1 + v2\n",
    "\n",
    "modulo_soma = np.linalg.norm(soma)\n",
    "print(modulo_soma)\n",
    "\n",
    "soma_modulo = np.linalg.norm(v1) + np.linalg.norm(v2)\n",
    "print(soma_modulo)"
   ]
  },
  {
   "cell_type": "code",
   "execution_count": 16,
   "metadata": {},
   "outputs": [
    {
     "data": {
      "text/plain": [
       "7.0710678118654755"
      ]
     },
     "execution_count": 16,
     "metadata": {},
     "output_type": "execute_result"
    }
   ],
   "source": [
    "#Exercício 6\n",
    "\n",
    "import math\n",
    "\n",
    "d_museu = math.sqrt((5 ** 2) + (5 ** 2))\n",
    "d_museu"
   ]
  },
  {
   "cell_type": "markdown",
   "metadata": {},
   "source": [
    "# Vetores 3"
   ]
  },
  {
   "cell_type": "code",
   "execution_count": 17,
   "metadata": {},
   "outputs": [
    {
     "data": {
      "text/plain": [
       "133.70115930686615"
      ]
     },
     "execution_count": 17,
     "metadata": {},
     "output_type": "execute_result"
    }
   ],
   "source": [
    "#Exercício 7\n",
    "\n",
    "v_aviao = math.sqrt((124 ** 2) + (50 ** 2))\n",
    "v_aviao"
   ]
  },
  {
   "cell_type": "code",
   "execution_count": 18,
   "metadata": {},
   "outputs": [
    {
     "data": {
      "text/plain": [
       "array([2.98096525, 2.66717944])"
      ]
     },
     "execution_count": 18,
     "metadata": {},
     "output_type": "execute_result"
    }
   ],
   "source": [
    "#Exercício 8\n",
    "\n",
    "d = np.array([19, 17])\n",
    "\n",
    "norm_d = np.linalg.norm(d)\n",
    "\n",
    "d_unit = d / norm_d\n",
    "\n",
    "nova_norma = 4\n",
    "\n",
    "v = nova_norma * d_unit\n",
    "v"
   ]
  },
  {
   "cell_type": "code",
   "execution_count": 23,
   "metadata": {},
   "outputs": [
    {
     "name": "stdout",
     "output_type": "stream",
     "text": [
      "[np.float64(1.5603525242713583), np.float64(0.9422313940853383), np.float64(1.4787156589419077), np.float64(1.7788479417870433), np.float64(0.580430874437258), np.float64(1.4055248130146973), np.float64(1.0313583276436953), np.float64(1.1709824934643558)]\n"
     ]
    },
    {
     "data": {
      "text/plain": [
       "np.float64(0.580430874437258)"
      ]
     },
     "execution_count": 23,
     "metadata": {},
     "output_type": "execute_result"
    }
   ],
   "source": [
    "#Exercício 9\n",
    "\n",
    "import numpy as np\n",
    "\n",
    "v = np.array([[0.48, 0.33, 0.94, 0.63, 0.57, 0.70],\n",
    "               [0.41, 0.44, 0.00, 0.56, 0.03, 0.46],\n",
    "                 [0.32, 0.86, 0.56, 0.65, 0.63, 0.46],\n",
    "                   [0.51, 0.92, 0.97, 0.48, 0.87, 0.36],\n",
    "                     [0.47, 0.13, 0.11, 0.05, 0.29, 0.02],\n",
    "                       [0.49, 0.17, 0.96, 0.03, 0.28, 0.84],\n",
    "                         [0.34, 0.68, 0.08, 0.44, 0.51, 0.16],\n",
    "                           [0.31, 0.22, 0.19, 0.65, 0.25, 0.84]])\n",
    "\n",
    "normas = []\n",
    "\n",
    "for i in v:\n",
    "    norma = np.linalg.norm(i)\n",
    "    normas.append(norma)\n",
    "\n",
    "print(normas)\n",
    "\n",
    "normas_min = min(normas)\n",
    "normas_min\n",
    "    "
   ]
  }
 ],
 "metadata": {
  "kernelspec": {
   "display_name": "venv",
   "language": "python",
   "name": "python3"
  },
  "language_info": {
   "codemirror_mode": {
    "name": "ipython",
    "version": 3
   },
   "file_extension": ".py",
   "mimetype": "text/x-python",
   "name": "python",
   "nbconvert_exporter": "python",
   "pygments_lexer": "ipython3",
   "version": "3.12.3"
  }
 },
 "nbformat": 4,
 "nbformat_minor": 2
}
