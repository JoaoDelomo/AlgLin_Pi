{
 "cells": [
  {
   "cell_type": "code",
   "execution_count": 2,
   "metadata": {},
   "outputs": [],
   "source": [
    "import numpy as np"
   ]
  },
  {
   "cell_type": "markdown",
   "metadata": {},
   "source": [
    "# Vetores 1"
   ]
  },
  {
   "cell_type": "code",
   "execution_count": 5,
   "metadata": {},
   "outputs": [
    {
     "name": "stdout",
     "output_type": "stream",
     "text": [
      "[21.2, 23.849999999999998, 7.949999999999999, 10.6]\n"
     ]
    }
   ],
   "source": [
    "#Exercício 2\n",
    "\n",
    "v = [8, 9, 3, 4]\n",
    "a = 2.65\n",
    "va = []\n",
    "\n",
    "for i in v:\n",
    "    escalar = i * a\n",
    "    va.append(escalar)\n",
    "\n",
    "print(va)"
   ]
  },
  {
   "cell_type": "code",
   "execution_count": 12,
   "metadata": {},
   "outputs": [
    {
     "name": "stdout",
     "output_type": "stream",
     "text": [
      "[10, 6, 15, 16]\n"
     ]
    }
   ],
   "source": [
    "#Exercício 3\n",
    "\n",
    "v1 = [5, 3, 9, 8]\n",
    "v2 = [5, 3, 6, 8]\n",
    "soma = []\n",
    "\n",
    "i = 0\n",
    "while i <= 3:\n",
    "    add = v1[i] + v2[i]\n",
    "    soma.append(add)\n",
    "    i += 1\n",
    "\n",
    "print(soma)"
   ]
  },
  {
   "cell_type": "markdown",
   "metadata": {},
   "source": [
    "# Vetores 2"
   ]
  },
  {
   "cell_type": "code",
   "execution_count": 14,
   "metadata": {},
   "outputs": [
    {
     "data": {
      "text/plain": [
       "np.float64(0.7071067811865475)"
      ]
     },
     "execution_count": 14,
     "metadata": {},
     "output_type": "execute_result"
    }
   ],
   "source": [
    "#Exercício 4\n",
    "\n",
    "v = np.array([0, 0, 0.7, 0.1])\n",
    "\n",
    "modulo = np.linalg.norm(v)\n",
    "modulo\n"
   ]
  },
  {
   "cell_type": "code",
   "execution_count": 15,
   "metadata": {},
   "outputs": [
    {
     "name": "stdout",
     "output_type": "stream",
     "text": [
      "29.765752132274432\n",
      "29.99258801537107\n"
     ]
    }
   ],
   "source": [
    "#Exercício 5\n",
    "\n",
    "v1 = np.array([6, 9, 7, 7])\n",
    "v2 = np.array([3, 9, 8, 9])\n",
    "\n",
    "soma = v1 + v2\n",
    "\n",
    "modulo_soma = np.linalg.norm(soma)\n",
    "print(modulo_soma)\n",
    "\n",
    "soma_modulo = np.linalg.norm(v1) + np.linalg.norm(v2)\n",
    "print(soma_modulo)"
   ]
  },
  {
   "cell_type": "code",
   "execution_count": 16,
   "metadata": {},
   "outputs": [
    {
     "data": {
      "text/plain": [
       "7.0710678118654755"
      ]
     },
     "execution_count": 16,
     "metadata": {},
     "output_type": "execute_result"
    }
   ],
   "source": [
    "#Exercício 6\n",
    "\n",
    "import math\n",
    "\n",
    "d_museu = math.sqrt((5 ** 2) + (5 ** 2))\n",
    "d_museu"
   ]
  },
  {
   "cell_type": "markdown",
   "metadata": {},
   "source": [
    "# Vetores 3"
   ]
  },
  {
   "cell_type": "code",
   "execution_count": 17,
   "metadata": {},
   "outputs": [
    {
     "data": {
      "text/plain": [
       "133.70115930686615"
      ]
     },
     "execution_count": 17,
     "metadata": {},
     "output_type": "execute_result"
    }
   ],
   "source": [
    "#Exercício 7\n",
    "\n",
    "v_aviao = math.sqrt((124 ** 2) + (50 ** 2))\n",
    "v_aviao"
   ]
  },
  {
   "cell_type": "code",
   "execution_count": 18,
   "metadata": {},
   "outputs": [
    {
     "data": {
      "text/plain": [
       "array([2.98096525, 2.66717944])"
      ]
     },
     "execution_count": 18,
     "metadata": {},
     "output_type": "execute_result"
    }
   ],
   "source": [
    "#Exercício 8\n",
    "\n",
    "d = np.array([19, 17])\n",
    "\n",
    "norm_d = np.linalg.norm(d)\n",
    "\n",
    "d_unit = d / norm_d\n",
    "\n",
    "nova_norma = 4\n",
    "\n",
    "v = nova_norma * d_unit\n",
    "v"
   ]
  },
  {
   "cell_type": "code",
   "execution_count": 23,
   "metadata": {},
   "outputs": [
    {
     "name": "stdout",
     "output_type": "stream",
     "text": [
      "[np.float64(1.5603525242713583), np.float64(0.9422313940853383), np.float64(1.4787156589419077), np.float64(1.7788479417870433), np.float64(0.580430874437258), np.float64(1.4055248130146973), np.float64(1.0313583276436953), np.float64(1.1709824934643558)]\n"
     ]
    },
    {
     "data": {
      "text/plain": [
       "np.float64(0.580430874437258)"
      ]
     },
     "execution_count": 23,
     "metadata": {},
     "output_type": "execute_result"
    }
   ],
   "source": [
    "#Exercício 9\n",
    "\n",
    "import numpy as np\n",
    "\n",
    "v = np.array([[0.48, 0.33, 0.94, 0.63, 0.57, 0.70],\n",
    "               [0.41, 0.44, 0.00, 0.56, 0.03, 0.46],\n",
    "                 [0.32, 0.86, 0.56, 0.65, 0.63, 0.46],\n",
    "                   [0.51, 0.92, 0.97, 0.48, 0.87, 0.36],\n",
    "                     [0.47, 0.13, 0.11, 0.05, 0.29, 0.02],\n",
    "                       [0.49, 0.17, 0.96, 0.03, 0.28, 0.84],\n",
    "                         [0.34, 0.68, 0.08, 0.44, 0.51, 0.16],\n",
    "                           [0.31, 0.22, 0.19, 0.65, 0.25, 0.84]])\n",
    "\n",
    "normas = []\n",
    "\n",
    "for i in v:\n",
    "    norma = np.linalg.norm(i)\n",
    "    normas.append(norma)\n",
    "\n",
    "print(normas)\n",
    "\n",
    "normas_min = min(normas)\n",
    "normas_min\n",
    "    "
   ]
  },
  {
   "cell_type": "markdown",
   "metadata": {},
   "source": [
    "# Sistemas Lineares 1 "
   ]
  },
  {
   "cell_type": "code",
   "execution_count": 8,
   "metadata": {},
   "outputs": [
    {
     "data": {
      "text/plain": [
       "array([0.198 , 0.729 , 0.494 , 0.306 , 1.136 , 0.4671, 0.8125, 0.4356])"
      ]
     },
     "execution_count": 8,
     "metadata": {},
     "output_type": "execute_result"
    }
   ],
   "source": [
    "#Exercício 1\n",
    "\n",
    "A = np.array([0.43, 0.23, 0.48, 0.44, 0.85, 0.79, 0.40, 0.59])\n",
    "B = np.array([0.23, 0.58, 0.47, 0.01, 0.57, 0.94, 0.85, 0.40])\n",
    "C = np.array([0.30, 0.90, 0.52, 0.68, 0.80, 0.27, 0.65, 0.44])\n",
    "\n",
    "(A + B) * C"
   ]
  },
  {
   "cell_type": "code",
   "execution_count": 14,
   "metadata": {},
   "outputs": [
    {
     "data": {
      "text/plain": [
       "np.float64(2.4837)"
      ]
     },
     "execution_count": 14,
     "metadata": {},
     "output_type": "execute_result"
    }
   ],
   "source": [
    "#Exercício 2\n",
    "\n",
    "A = np.array([0.10, 0.18, 0.21, 0.36, 0.26, 0.70, 0.14, 0.09, 0.67, 0.77, 0.14])\n",
    "B = np.array([0.42, 0.43, 0.80, 0.93, 0.96, 0.36, 0.52, 0.11, 0.99, 0.63, 0.92])\n",
    "\n",
    "A @ B"
   ]
  },
  {
   "cell_type": "markdown",
   "metadata": {},
   "source": [
    "# Sistemas Lineares 2"
   ]
  },
  {
   "cell_type": "code",
   "execution_count": 12,
   "metadata": {},
   "outputs": [
    {
     "data": {
      "text/plain": [
       "array([[2.9847, 2.1803, 2.0487, 3.0958, 1.9345, 2.9532, 2.763 , 3.2322,\n",
       "        2.4426, 3.3158, 1.8435],\n",
       "       [2.8157, 3.099 , 2.0901, 3.0121, 2.6126, 2.4982, 2.8536, 2.9558,\n",
       "        2.2635, 3.6692, 2.0693],\n",
       "       [2.3331, 1.5919, 1.2097, 2.7046, 2.0777, 2.2236, 1.6323, 2.0582,\n",
       "        1.6816, 2.2671, 1.5649],\n",
       "       [2.151 , 1.9142, 1.1944, 2.432 , 1.7391, 1.7193, 1.2786, 1.9783,\n",
       "        1.6894, 1.9068, 1.0826],\n",
       "       [3.3439, 2.628 , 2.1295, 3.7312, 2.649 , 3.3863, 3.1733, 3.469 ,\n",
       "        2.6786, 3.9223, 2.519 ],\n",
       "       [2.6848, 2.1676, 1.6426, 3.0536, 1.963 , 2.4553, 2.1569, 2.9639,\n",
       "        2.1963, 2.7115, 1.9052],\n",
       "       [1.8656, 1.638 , 1.0709, 1.438 , 1.2983, 1.342 , 1.6307, 1.5082,\n",
       "        1.2155, 2.0427, 1.2114],\n",
       "       [2.6333, 1.7321, 1.6766, 2.648 , 1.8965, 2.431 , 1.9388, 2.3723,\n",
       "        2.1121, 2.6903, 1.4776],\n",
       "       [2.1246, 1.862 , 1.3487, 2.1807, 1.3239, 1.9737, 1.9984, 2.2576,\n",
       "        1.6708, 2.4502, 1.1281]])"
      ]
     },
     "execution_count": 12,
     "metadata": {},
     "output_type": "execute_result"
    }
   ],
   "source": [
    "#Exercício 5\n",
    "\n",
    "A = np.array([[0.79, 0.72, 0.91, 0.33, 0.85, 0.82, 0.49, 0.11, 0.18], [0.85, 0.66, 0.20, 0.89, 0.34, 0.74, 0.39, 0.69, 0.89], [0.06, 0.81, 0.36, 0.26, 0.57, 0.22, 0.59, 0.33, 0.89], [0.22, 0.38, 0.11, 0.02, 0.69, 0.58, 0.16, 0.59, 0.79], [0.51, 0.99, 0.91, 0.83, 0.43, 0.85, 0.50, 0.29, 0.89], [0.21, 0.58, 0.66, 0.47, 0.88, 0.65, 0.03, 0.52, 0.64], [0.18, 0.09, 0.19, 0.73, 0.03, 0.16, 0.83, 0.60, 0.53], [0.14, 0.91, 0.69, 0.18, 0.59, 0.28, 0.72, 0.60, 0.36], [0.80, 0.24, 0.28, 0.23, 0.64, 0.89, 0.44, 0.02, 0.17]])\n",
    "B = np.array([[0.34, 0.84, 0.86, 0.08, 0.60, 0.19, 0.71, 0.48, 0.30, 0.66, 0.13], [0.19, 0.22, 0.36, 0.82, 0.78, 0.76, 0.46, 0.36, 0.43, 0.95, 0.41], [0.88, 0.05, 0.66, 0.50, 0.13, 0.76, 0.59, 0.83, 0.71, 0.35, 0.49], [0.17, 0.51, 0.14, 0.29, 0.25, 0.33, 0.99, 0.72, 0.07, 0.95, 0.98], [0.70, 0.40, 0.20, 0.94, 0.40, 0.58, 0.37, 1.00, 0.41, 0.39, 0.54], [0.69, 0.65, 0.15, 0.91, 0.06, 0.74, 0.55, 0.69, 0.74, 0.93, 0.12], [0.76, 0.16, 0.13, 0.34, 0.21, 0.55, 0.40, 0.16, 0.30, 0.61, 0.07], [0.64, 0.97, 0.74, 0.21, 0.40, 0.03, 0.22, 0.43, 0.69, 0.58, 0.00], [0.66, 0.48, 0.14, 0.87, 0.90, 0.46, 0.12, 0.33, 0.27, 0.12, 0.47]])\n",
    "\n",
    "np.dot(A, B)"
   ]
  },
  {
   "cell_type": "code",
   "execution_count": 15,
   "metadata": {},
   "outputs": [
    {
     "data": {
      "text/plain": [
       "array([[4.364832, 2.877472, 2.209655, 2.369831, 4.004006],\n",
       "       [4.786908, 3.193984, 2.738471, 2.619245, 4.449527],\n",
       "       [4.329102, 2.949258, 2.283291, 2.565319, 4.037159],\n",
       "       [4.719228, 3.668246, 2.346764, 3.177132, 4.68206 ],\n",
       "       [3.678582, 2.72536 , 1.945858, 2.37029 , 3.576365]])"
      ]
     },
     "execution_count": 15,
     "metadata": {},
     "output_type": "execute_result"
    }
   ],
   "source": [
    "#Exercício 8\n",
    "\n",
    "A = np.array([[0.79, 0.36, 0.68, 0.47, 0.29], [0.34, 0.03, 0.98, 0.92, 0.80], [0.07, 0.69, 0.78, 0.92, 0.55], [0.48, 0.85, 0.13, 0.79, 0.91], [0.08, 0.70, 0.43, 0.62, 0.77]])\n",
    "B = np.array([[0.11, 0.65, 0.79, 0.97, 0.57], [0.13, 0.91, 0.51, 0.02, 0.11], [0.14, 0.01, 0.96, 0.25, 0.61], [0.22, 0.71, 0.48, 0.24, 0.33], [0.85, 0.59, 0.33, 0.13, 0.05]])\n",
    "C = np.array([[0.70, 0.80, 0.93, 0.53, 0.93], [0.65, 0.77, 0.01, 0.88, 0.76], [0.86, 0.22, 0.29, 0.07, 0.60], [0.60, 0.71, 0.12, 0.34, 0.76], [0.83, 0.19, 0.94, 0.35, 0.50]])\n",
    "\n",
    "Y = (A @ B) @ C\n",
    "Y\n",
    "\n",
    "\n"
   ]
  },
  {
   "cell_type": "markdown",
   "metadata": {},
   "source": []
  },
  {
   "cell_type": "markdown",
   "metadata": {},
   "source": [
    "# Sistemas Lineares 3"
   ]
  },
  {
   "cell_type": "code",
   "execution_count": 17,
   "metadata": {},
   "outputs": [
    {
     "data": {
      "text/plain": [
       "array([ 2.58170439, -1.31968338,  1.13136524, -1.89353987, -0.19554882,\n",
       "        0.25242964,  0.81843475])"
      ]
     },
     "execution_count": 17,
     "metadata": {},
     "output_type": "execute_result"
    }
   ],
   "source": [
    "#Exercício 4\n",
    "\n",
    "A = np.array([[5.6, 7.8, 8.4, 8.4, 9.0, 1.5, 5.4],\n",
    "            [7.8, 8.9, 5, 3.1, 2, 1.2, 0.5],\n",
    "            [7.8, 8.7, 3.3, 2.3, 7.8, 3.6, 1.2],\n",
    "            [4.4, 2.4, 0.8, 4.3, 4.7, 8.1, 4.3],\n",
    "            [0.8, 3.3, 6.6, 0.5, 4.9, 9.9, 4.8],\n",
    "            [7.5, 6, 3.2, 9.6, 0.8, 7.4, 5.5],\n",
    "            [3, 8, 5.2, 0.3, 7.2, 7, 7.5]\n",
    "])\n",
    "\n",
    "B = np.array([0.8, 8.5, 8.4, 5.6, 9.7, 3.1, 9])\n",
    "\n",
    "X = np.linalg.solve(A, B)\n",
    "X"
   ]
  },
  {
   "cell_type": "code",
   "execution_count": 18,
   "metadata": {},
   "outputs": [
    {
     "data": {
      "text/plain": [
       "array([[  89.49433098, 1403.51965447],\n",
       "       [ -42.49170306, -666.80361545]])"
      ]
     },
     "execution_count": 18,
     "metadata": {},
     "output_type": "execute_result"
    }
   ],
   "source": [
    "#Exercício 9\n",
    "\n",
    "A = np.array([[0.30, 1.10], [0.90, 1.40]])\n",
    "B = np.array([[1.50, 0.70], [0.50, 0.80]])\n",
    "C = np.array([[1.10, 1.20], [1.80, 0.10]])\n",
    "\n",
    "P = A @ B @ A @ B @ B @ A @ B @ A \n",
    "\n",
    "X = np.linalg.solve(P, C)\n",
    "X"
   ]
  },
  {
   "cell_type": "code",
   "execution_count": 20,
   "metadata": {},
   "outputs": [
    {
     "data": {
      "text/plain": [
       "array([[ 0.34749035, -5.83011583],\n",
       "       [-0.87258687,  7.52895753]])"
      ]
     },
     "execution_count": 20,
     "metadata": {},
     "output_type": "execute_result"
    }
   ],
   "source": [
    "#Exercício 10\n",
    "\n",
    "A = np.array([[1.30, 1.50], [0.20, 0.80]])\n",
    "B = np.array([[1.00, 1.50], [0.50, 0.40]])\n",
    "C = np.array([[1.00, 0.20], [1.80, 1.00]])\n",
    "\n",
    "A_inv = np.linalg.inv(A)\n",
    "B_inv = np.linalg.inv(B)\n",
    "\n",
    "X = A_inv @ C @ B_inv\n",
    "X"
   ]
  }
 ],
 "metadata": {
  "kernelspec": {
   "display_name": "venv",
   "language": "python",
   "name": "python3"
  },
  "language_info": {
   "codemirror_mode": {
    "name": "ipython",
    "version": 3
   },
   "file_extension": ".py",
   "mimetype": "text/x-python",
   "name": "python",
   "nbconvert_exporter": "python",
   "pygments_lexer": "ipython3",
   "version": "3.12.3"
  }
 },
 "nbformat": 4,
 "nbformat_minor": 2
}
